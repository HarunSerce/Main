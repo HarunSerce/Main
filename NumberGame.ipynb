{
 "cells": [
  {
   "cell_type": "code",
   "execution_count": 10,
   "metadata": {},
   "outputs": [],
   "source": [
    "import random #Importing library to use random functions.\n",
    "def guess():\n",
    "    print(\"Welcome to the Number Guessing Game!\")\n",
    "    min = 1\n",
    "    max = 100\n",
    "    computer_num= random.randint(min, max)#picks random number to assign the variable\n",
    "\n",
    "    while True:\n",
    "        try:\n",
    "            user_guess = int(input(f\"Guess a number between {min} and {max}: \"))\n",
    "        except ValueError:\n",
    "            print(\"Please enter a valid number.\")\n",
    "            continue\n",
    "        # Ignores ValueError. User may enter a number by a word.\n",
    "        if user_guess < min or user_guess > max:\n",
    "            print(\"You entered a number outside the range. Please try again.\")\n",
    "            continue\n",
    "\n",
    "        distance = abs(computer_num - user_guess)\n",
    "        # variable for measuring distance between computer's choice and user's.\n",
    "\n",
    "        if distance == 0:\n",
    "            print(f\"Congrats! You guessed the correct number, which was {computer_num}.\")\n",
    "            break\n",
    "        elif distance <= 5:\n",
    "            print(\"Very close!\")\n",
    "        elif distance <= 10:\n",
    "            print(\"Close.\")\n",
    "        elif distance <= 25:\n",
    "            print(\"A bit close.\")\n",
    "        else:\n",
    "            print(\"Far away.\")\n",
    "        # feedbacks for user to guide.\n",
    "  \n",
    "\n",
    "\n",
    "\n"
   ]
  },
  {
   "cell_type": "markdown",
   "metadata": {},
   "source": [
    "There is another version below."
   ]
  },
  {
   "cell_type": "code",
   "execution_count": 2,
   "metadata": {},
   "outputs": [],
   "source": [
    "def guessing():\n",
    "    print(\"Welcome to the number guessing game :)\")\n",
    "    minimum=1\n",
    "    maximum=100\n",
    "    computer_number= random.randint(minimum,maximum)\n",
    "\n",
    "    while True:\n",
    "            \n",
    "        user_input=input(f\"Please enter a number between {minimum} and {maximum}.\")\n",
    "\n",
    "        if user_input.isdigit()==True:\n",
    "            user_input= int(user_input)\n",
    "\n",
    "            if minimum<= user_input<=maximum:\n",
    "                    \n",
    "                dist=abs(user_input-computer_number)\n",
    "\n",
    "                if dist == 0:\n",
    "                    print(f\"Congrats! You guessed the correct number, which was {computer_number}.\")\n",
    "                    break\n",
    "                elif dist <= 5:\n",
    "                    print(\"Very close!\")\n",
    "                elif dist<= 10:\n",
    "                    print(\"Close.\")\n",
    "                elif dist<= 25:\n",
    "                    print(\"A bit close.\")\n",
    "                else:\n",
    "                    print(\"Far away.\")\n",
    "            else:\n",
    "                print(f\"Please pick a number in range of {minimum} and {maximum} \")\n",
    "\n",
    "        else:\n",
    "            print(\"Please enter a valid number\")\n",
    "\n",
    "\n",
    "\n",
    "\n",
    "\n",
    "            \n",
    "\n"
   ]
  }
 ],
 "metadata": {
  "kernelspec": {
   "display_name": "Python 3",
   "language": "python",
   "name": "python3"
  },
  "language_info": {
   "codemirror_mode": {
    "name": "ipython",
    "version": 3
   },
   "file_extension": ".py",
   "mimetype": "text/x-python",
   "name": "python",
   "nbconvert_exporter": "python",
   "pygments_lexer": "ipython3",
   "version": "3.9.6"
  },
  "orig_nbformat": 4
 },
 "nbformat": 4,
 "nbformat_minor": 2
}
