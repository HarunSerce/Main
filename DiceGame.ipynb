{
 "cells": [
  {
   "cell_type": "code",
   "execution_count": 21,
   "metadata": {},
   "outputs": [],
   "source": [
    "import random\n",
    "#Library for random number generate\n",
    "\n",
    "def roll_dice(min_num, max_num): \n",
    "    return random.randint(min_num, max_num)\n",
    "#defined func. for picking random number.\n",
    "\n",
    "def game():\n",
    "    \"\"\"Dice Rolling game\"\"\"\n",
    "    min_num = 1\n",
    "    max_num = 6\n",
    "\n",
    "    while True:\n",
    "        input(\"Press Enter to roll the dice.\") #User starts the game via input\n",
    "        result = roll_dice(min_num, max_num) #From roll_dice function gathers a result\n",
    "        print(f\"The dice rolled: {result}\")#Display the result on the screen\n",
    "        roll_again = input(\"Do you want to roll again? (yes/no): \").lower()#asks the user whether continue to play again or not.Lower function used for avoiding Upper/Lower case difference\n",
    "            \n",
    "        if roll_again != 'yes':#If the answer is 'no' breaks the condition and the game is completed.\n",
    "            print(\"Thanks for playing!\")\n",
    "            break\n",
    "\n"
   ]
  },
  {
   "cell_type": "code",
   "execution_count": null,
   "metadata": {},
   "outputs": [],
   "source": [
    "import random \n",
    "\n",
    "def roll_dice():\n",
    "    min_num = 1\n",
    "    max_num = 6\n",
    "    return random.randint(min_num, max_num)\n",
    "\n",
    "while True:\n",
    "    user_choice = input(\"Roll the dice? (yes/no): \").lower()\n",
    "\n",
    "    if user_choice == \"yes\":\n",
    "        result = roll_dice()\n",
    "        print(f\"You rolled: {result}\")\n",
    "    elif user_choice == \"no\":\n",
    "        print(\"Goodbye!\")\n",
    "        break\n",
    "    else:\n",
    "        print(\"Invalid input. Please enter 'yes' or 'no'.\")"
   ]
  }
 ],
 "metadata": {
  "kernelspec": {
   "display_name": "Python 3",
   "language": "python",
   "name": "python3"
  },
  "language_info": {
   "codemirror_mode": {
    "name": "ipython",
    "version": 3
   },
   "file_extension": ".py",
   "mimetype": "text/x-python",
   "name": "python",
   "nbconvert_exporter": "python",
   "pygments_lexer": "ipython3",
   "version": "3.9.6"
  },
  "orig_nbformat": 4
 },
 "nbformat": 4,
 "nbformat_minor": 2
}
